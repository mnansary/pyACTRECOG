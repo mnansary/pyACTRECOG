{
  "nbformat": 4,
  "nbformat_minor": 0,
  "metadata": {
    "accelerator": "TPU",
    "colab": {
      "name": "LRCN.ipynb",
      "provenance": [],
      "collapsed_sections": []
    },
    "kernelspec": {
      "display_name": "Python 3",
      "language": "python",
      "name": "python3"
    },
    "language_info": {
      "codemirror_mode": {
        "name": "ipython",
        "version": 3
      },
      "file_extension": ".py",
      "mimetype": "text/x-python",
      "name": "python",
      "nbconvert_exporter": "python",
      "pygments_lexer": "ipython3",
      "version": "3.6.9"
    }
  },
  "cells": [
    {
      "cell_type": "markdown",
      "metadata": {
        "colab_type": "text",
        "id": "view-in-github"
      },
      "source": [
        "<a href=\"https://colab.research.google.com/github/mnansary/pyF2O/blob/master/colab_gen_unet.ipynb\" target=\"_parent\"><img src=\"https://colab.research.google.com/assets/colab-badge.svg\" alt=\"Open In Colab\"/></a>"
      ]
    },
    {
      "cell_type": "markdown",
      "metadata": {
        "colab_type": "text",
        "id": "1ojVYZ7Spzpv"
      },
      "source": [
        "# colab specific task\n",
        "*   mount google drive\n",
        "*   TPU check\n",
        "*   Check TF version\n",
        "*   Change to git repo "
      ]
    },
    {
      "cell_type": "code",
      "metadata": {
        "colab_type": "code",
        "id": "--q4JaV2ps6z",
        "colab": {
          "base_uri": "https://localhost:8080/",
          "height": 54
        },
        "outputId": "82ad92c4-b85e-4d49-e9d9-952449aae330"
      },
      "source": [
        "from google.colab import drive\n",
        "drive.mount('/content/gdrive')"
      ],
      "execution_count": 1,
      "outputs": [
        {
          "output_type": "stream",
          "text": [
            "Drive already mounted at /content/gdrive; to attempt to forcibly remount, call drive.mount(\"/content/gdrive\", force_remount=True).\n"
          ],
          "name": "stdout"
        }
      ]
    },
    {
      "cell_type": "code",
      "metadata": {
        "colab_type": "code",
        "id": "9NVN35lELc_p",
        "colab": {
          "base_uri": "https://localhost:8080/",
          "height": 275
        },
        "outputId": "c685564b-c1dd-4805-fa97-4ea37b43299e"
      },
      "source": [
        "\n",
        "# tpu check\n",
        "import os\n",
        "import pprint\n",
        "import tensorflow as tf\n",
        "if 'COLAB_TPU_ADDR' not in os.environ:\n",
        "  print('ERROR: Not connected to a TPU runtime; please see the first cell in this notebook for instructions!')\n",
        "else:\n",
        "  TPU_ADDRESS = 'grpc://' + os.environ['COLAB_TPU_ADDR']\n",
        "  print ('TPU address is', TPU_ADDRESS)\n",
        "\n",
        "  with tf.Session(TPU_ADDRESS) as session:\n",
        "    devices = session.list_devices()\n",
        "    \n",
        "  print('TPU devices:')\n",
        "  pprint.pprint(devices)\n",
        "\n",
        "tf.__version__"
      ],
      "execution_count": 2,
      "outputs": [
        {
          "output_type": "stream",
          "text": [
            "TPU address is grpc://10.49.42.130:8470\n",
            "TPU devices:\n",
            "[_DeviceAttributes(/job:tpu_worker/replica:0/task:0/device:CPU:0, CPU, -1, 16987798856630431758),\n",
            " _DeviceAttributes(/job:tpu_worker/replica:0/task:0/device:XLA_CPU:0, XLA_CPU, 17179869184, 13790675313373430284),\n",
            " _DeviceAttributes(/job:tpu_worker/replica:0/task:0/device:TPU:0, TPU, 17179869184, 10344458332181360022),\n",
            " _DeviceAttributes(/job:tpu_worker/replica:0/task:0/device:TPU:1, TPU, 17179869184, 5423374367154161076),\n",
            " _DeviceAttributes(/job:tpu_worker/replica:0/task:0/device:TPU:2, TPU, 17179869184, 1463399863322674858),\n",
            " _DeviceAttributes(/job:tpu_worker/replica:0/task:0/device:TPU:3, TPU, 17179869184, 14319538073957609690),\n",
            " _DeviceAttributes(/job:tpu_worker/replica:0/task:0/device:TPU:4, TPU, 17179869184, 7128244198844131651),\n",
            " _DeviceAttributes(/job:tpu_worker/replica:0/task:0/device:TPU:5, TPU, 17179869184, 4581999642024784193),\n",
            " _DeviceAttributes(/job:tpu_worker/replica:0/task:0/device:TPU:6, TPU, 17179869184, 11345416841800977193),\n",
            " _DeviceAttributes(/job:tpu_worker/replica:0/task:0/device:TPU:7, TPU, 17179869184, 6199123212053419651),\n",
            " _DeviceAttributes(/job:tpu_worker/replica:0/task:0/device:TPU_SYSTEM:0, TPU_SYSTEM, 8589934592, 14647237267238014552)]\n"
          ],
          "name": "stdout"
        },
        {
          "output_type": "execute_result",
          "data": {
            "text/plain": [
              "'1.15.0'"
            ]
          },
          "metadata": {
            "tags": []
          },
          "execution_count": 2
        }
      ]
    },
    {
      "cell_type": "code",
      "metadata": {
        "colab_type": "code",
        "id": "ySSaUDNQgwBK",
        "colab": {
          "base_uri": "https://localhost:8080/",
          "height": 34
        },
        "outputId": "442f2e1d-d756-4698-c51e-1863c6d52005"
      },
      "source": [
        "cd /content/gdrive/My\\ Drive/PROJECTS/HACT/pyACTRECOG/"
      ],
      "execution_count": 3,
      "outputs": [
        {
          "output_type": "stream",
          "text": [
            "/content/gdrive/My Drive/PROJECTS/HACT/pyACTRECOG\n"
          ],
          "name": "stdout"
        }
      ]
    },
    {
      "cell_type": "markdown",
      "metadata": {
        "colab_type": "text",
        "id": "6gqGOIRmujw5"
      },
      "source": [
        "# GCS specific task \n",
        "* **auth user**\n",
        "* **save** and **upload** credentials to **tpu**\n",
        "* set project information"
      ]
    },
    {
      "cell_type": "code",
      "metadata": {
        "colab_type": "code",
        "id": "6zBp1CZeupWY",
        "colab": {}
      },
      "source": [
        "# auth user for cloud SDK\n",
        "from google.colab import auth\n",
        "auth.authenticate_user()"
      ],
      "execution_count": 0,
      "outputs": []
    },
    {
      "cell_type": "code",
      "metadata": {
        "colab_type": "code",
        "id": "vbLxepOqurpI",
        "colab": {
          "base_uri": "https://localhost:8080/",
          "height": 170
        },
        "outputId": "eae39551-e533-461e-bcf3-0c380adcd1f4"
      },
      "source": [
        "# Save credentials\n",
        "import json\n",
        "SERVICE_KEY_PATH='/content/adc.json' # @param\n",
        "# Upload credentials to TPU.\n",
        "with tf.Session(TPU_ADDRESS) as sess:    \n",
        "    with open(SERVICE_KEY_PATH, 'r') as f:\n",
        "        auth_info = json.load(f)\n",
        "        tf.contrib.cloud.configure_gcs(sess, credentials=auth_info)\n",
        "# set service_account\n",
        "JSON_DATA=json.load(open(SERVICE_KEY_PATH))\n",
        "SERVICE_ACCOUNT=str(JSON_DATA['client_id']).split('.')[0]\n",
        "print('Service Account:',SERVICE_ACCOUNT)"
      ],
      "execution_count": 5,
      "outputs": [
        {
          "output_type": "stream",
          "text": [
            "WARNING:tensorflow:\n",
            "The TensorFlow contrib module will not be included in TensorFlow 2.0.\n",
            "For more information, please see:\n",
            "  * https://github.com/tensorflow/community/blob/master/rfcs/20180907-contrib-sunset.md\n",
            "  * https://github.com/tensorflow/addons\n",
            "  * https://github.com/tensorflow/io (for I/O related ops)\n",
            "If you depend on functionality not listed there, please file an issue.\n",
            "\n",
            "Service Account: 32555940559\n"
          ],
          "name": "stdout"
        }
      ]
    },
    {
      "cell_type": "markdown",
      "metadata": {
        "colab_type": "text",
        "id": "lUUry52GuuzY"
      },
      "source": [
        "#### SET PROJECT INFORMATION "
      ]
    },
    {
      "cell_type": "code",
      "metadata": {
        "colab_type": "code",
        "id": "0LQRPfsCuxl-",
        "colab": {
          "base_uri": "https://localhost:8080/",
          "height": 68
        },
        "outputId": "5d6e0100-4962-4850-909f-9540417768f0"
      },
      "source": [
        "PROJECT_ID    ='record-1106154'     # @param \n",
        "BUCKET        ='tfalldata'          # @param \n",
        "TFIDEN        ='TFRECORD'            # @param\n",
        "# LIST FILES\n",
        "TFRECORDS_DIR= 'gs://{}/{}/'.format(BUCKET,TFIDEN)\n",
        "!gcloud config set project {PROJECT_ID}\n",
        "!gsutil ls {TFRECORDS_DIR}\n"
      ],
      "execution_count": 6,
      "outputs": [
        {
          "output_type": "stream",
          "text": [
            "Updated property [core/project].\n",
            "gs://tfalldata/TFRECORD/Eval/\n",
            "gs://tfalldata/TFRECORD/Train/\n"
          ],
          "name": "stdout"
        }
      ]
    },
    {
      "cell_type": "markdown",
      "metadata": {
        "colab_type": "text",
        "id": "dxefiHZ4qlHA"
      },
      "source": [
        "# ConvNet3D Model Training"
      ]
    },
    {
      "cell_type": "markdown",
      "metadata": {
        "colab_type": "text",
        "id": "blwtSzOarVYM"
      },
      "source": [
        "#### Data \n",
        "* Set **FLAGS** and **PARAMS**\n",
        "* Create **Train** and **Eval** Data Generator\n"
      ]
    },
    {
      "cell_type": "code",
      "metadata": {
        "cellView": "both",
        "colab_type": "code",
        "id": "BOro7D1krWYf",
        "colab": {}
      },
      "source": [
        "import sys\n",
        "sys.path.append('.')\n",
        "import numpy as np \n",
        "\n",
        "class FLAGS:\n",
        "    BATCH_SIZE      = 32  #@param\n",
        "    IMAGE_DIM       = 64   #@param\n",
        "    NB_CHANNELS     = 3    #@param\n",
        "    MIN_SEQ_LEN     = 6    #@param\n",
        "    NB_CLASSES      = 17   #@param\n",
        "    SHUFFLE_BUFFER  = 6400 #@param\n",
        "\n",
        "MODEL_DIR           = '/content/gdrive/My Drive/PROJECTS/HACT/Model/' # @param\n",
        "MODEL_NAME          = 'LRCN' # @param\n",
        "EPOCHS              =  5           # @param\n",
        "NB_TRAIN_DATA       =  326144       # @param\n",
        "NB_EVAL_DATA        =  5120        # @param\n",
        "NB_TOTAL_DATA       =  NB_TRAIN_DATA + NB_EVAL_DATA \n",
        "STEPS_PER_EPOCH     =  NB_TOTAL_DATA // FLAGS.BATCH_SIZE \n",
        "VALIDATION_STEPS    =  NB_EVAL_DATA  // FLAGS.BATCH_SIZE \n",
        "CHECK_DATA          =  False\n",
        "LEARNING_RATE       = 1e-5 #@param\n",
        "\n",
        "LOAD_WEIGHTS=True #@param\n",
        "EPOCHS_DONE_BEFORE_RECONNECT=0  #@param\n",
        "EPOCHS=EPOCHS-EPOCHS_DONE_BEFORE_RECONNECT"
      ],
      "execution_count": 0,
      "outputs": []
    },
    {
      "cell_type": "markdown",
      "metadata": {
        "colab_type": "text",
        "id": "1guqi_rau5kA"
      },
      "source": [
        "#### Data Generator"
      ]
    },
    {
      "cell_type": "code",
      "metadata": {
        "colab_type": "code",
        "id": "WQy7N0hEu8D5",
        "colab": {
          "base_uri": "https://localhost:8080/",
          "height": 34
        },
        "outputId": "e67ac770-4fad-4169-e584-41ec0e804fac"
      },
      "source": [
        "from google.cloud import storage\n",
        "from functools import partial\n",
        "\n",
        "client = storage.Client(PROJECT_ID)\n",
        "# get bucket from the project\n",
        "bucket=client.get_bucket(BUCKET)\n",
        "print(bucket)\n",
        "\n",
        "def data_input_fn(FLAGS,mode): \n",
        "    \n",
        "    def _parser(example):\n",
        "      data  ={ 'feats':tf.io.FixedLenFeature((FLAGS.MIN_SEQ_LEN,FLAGS.IMAGE_DIM,FLAGS.IMAGE_DIM,FLAGS.NB_CHANNELS),tf.float32),\n",
        "                'label':tf.io.FixedLenFeature((),tf.int64)\n",
        "      }    \n",
        "      \n",
        "      parsed_example=tf.io.parse_single_example(example,data)\n",
        "      \n",
        "      feats=tf.cast(parsed_example['feats'],tf.float32)\n",
        "      feats=tf.reshape(feats,(FLAGS.MIN_SEQ_LEN,FLAGS.IMAGE_DIM,FLAGS.IMAGE_DIM,FLAGS.NB_CHANNELS))\n",
        "      \n",
        "      idx = tf.cast(parsed_example['label'], tf.int64)\n",
        "      label=tf.one_hot(idx,FLAGS.NB_CLASSES,dtype=tf.int64)\n",
        "      \n",
        "      return feats,label\n",
        "\n",
        "    dataset = tf.data.TFRecordDataset([os.path.join('gs://{}/'.format(BUCKET), f.name) for f in bucket.list_blobs(prefix='{}/{}'.format(TFIDEN,mode))])\n",
        "    #dataset = dataset.cache()\n",
        "    dataset = dataset.map(_parser)\n",
        "    dataset = dataset.shuffle(FLAGS.SHUFFLE_BUFFER,reshuffle_each_iteration=True)\n",
        "    dataset = dataset.repeat()\n",
        "    dataset = dataset.batch(FLAGS.BATCH_SIZE,drop_remainder=True)\n",
        "    dataset = dataset.prefetch(-1) # autotune    \n",
        "    return dataset\n",
        "\n",
        "def train_in_fn():\n",
        "    return data_input_fn(FLAGS,'Train')    \n",
        "\n",
        "def eval_in_fn():    \n",
        "    return data_input_fn(FLAGS,'Eval')\n"
      ],
      "execution_count": 8,
      "outputs": [
        {
          "output_type": "stream",
          "text": [
            "<Bucket: tfalldata>\n"
          ],
          "name": "stdout"
        }
      ]
    },
    {
      "cell_type": "markdown",
      "metadata": {
        "id": "-fNqQC-UGP17",
        "colab_type": "text"
      },
      "source": [
        "#### MODEL"
      ]
    },
    {
      "cell_type": "code",
      "metadata": {
        "id": "dKGoxRlCGPax",
        "colab_type": "code",
        "colab": {}
      },
      "source": [
        "from tensorflow.keras.models import Model,Sequential\n",
        "from tensorflow.keras.layers import Conv3D,MaxPooling3D,Activation,ZeroPadding3D,TimeDistributed,Conv2D,MaxPooling2D\n",
        "from tensorflow.keras.layers import Dropout,Dense,Flatten,GlobalAveragePooling2D,LSTM\n",
        "from tensorflow.keras.layers import AveragePooling2D,Input,Concatenate,BatchNormalization,Input\n",
        "from tensorflow.keras.regularizers import l2\n",
        "\n",
        "def LRCN(seq_len=6,img_dim=64,nb_channels=3,nb_classes=17,drop_out=0.2,weight_decay=1e-4):\n",
        "    in_shape=(seq_len,img_dim,img_dim,nb_channels)\n",
        "    feature_spec=[256,512]\n",
        "    layer_specs=[256,128,64]\n",
        "    IN=Input(shape=in_shape)\n",
        "    # first (non-default) block\n",
        "    X=TimeDistributed(Conv2D(128, (3, 3), strides=(2, 2), padding='same',kernel_regularizer=l2(weight_decay)))(IN)\n",
        "    X=TimeDistributed(MaxPooling2D((2, 2), strides=(2, 2)))(X)\n",
        "    X=TimeDistributed(Activation('relu'))(X)\n",
        "    X=BatchNormalization()(X)\n",
        "    # conv layer gropus\n",
        "    for nb_filter in feature_spec:\n",
        "        X=TimeDistributed(Conv2D(nb_filter, (3, 3), strides=(2, 2), padding='same',kernel_regularizer=l2(weight_decay)))(X)\n",
        "        X=TimeDistributed(MaxPooling2D((2, 2), strides=(2, 2)))(X)\n",
        "        X=TimeDistributed(Activation('relu'))(X)\n",
        "        X=BatchNormalization()(X)\n",
        "        \n",
        "    # FC layers group\n",
        "    X=TimeDistributed(Flatten())(X)\n",
        "    for i in range(len(layer_specs)):\n",
        "        X=LSTM(layer_specs[i],return_sequences=True,activation='tanh')(X)\n",
        "    # last layers\n",
        "    X=LSTM(32,return_sequences=False,activation='tanh')(X)\n",
        "    X=Dense(28, activation='relu', name='DENSE_1')(X)\n",
        "    if drop_out:\n",
        "            X=Dropout(drop_out,name='DROP_OUT_D-1')(X)\t    \n",
        "    X=Dense(24, activation='relu', name='DENSE_2')(X)\n",
        "    if drop_out:\n",
        "            X=Dropout(drop_out,name='DROP_OUT_D-2')(X)\t    \n",
        "    X=Dense(nb_classes, activation='softmax',name='DENSE_CLASS')(X)\n",
        "    return Model(inputs=IN,outputs=X)"
      ],
      "execution_count": 0,
      "outputs": []
    },
    {
      "cell_type": "markdown",
      "metadata": {
        "colab_type": "text",
        "id": "XMWNlaqLNIPY"
      },
      "source": [
        "#### COMPILE MODEL\n",
        "\n",
        "\n"
      ]
    },
    {
      "cell_type": "code",
      "metadata": {
        "colab_type": "code",
        "id": "_WMdSlCZJPWi",
        "colab": {
          "base_uri": "https://localhost:8080/",
          "height": 1000
        },
        "outputId": "7f660024-85cd-434a-ef4b-d7d1d5caa503"
      },
      "source": [
        "import sys\n",
        "sys.path.append('.')\n",
        "from tensorflow.keras.losses import categorical_crossentropy\n",
        "from tensorflow.keras.optimizers import Adam\n",
        "from coreLib.model import LRCN\n",
        "\n",
        "tf.logging.set_verbosity(tf.logging.INFO)\n",
        "resolver = tf.contrib.cluster_resolver.TPUClusterResolver('grpc://' + os.environ['COLAB_TPU_ADDR'])\n",
        "tf.contrib.distribute.initialize_tpu_system(resolver)\n",
        "strategy = tf.contrib.distribute.TPUStrategy(resolver)\n",
        "with strategy.scope():\n",
        "  model=LRCN(seq_len=FLAGS.MIN_SEQ_LEN,\n",
        "              img_dim=FLAGS.IMAGE_DIM,\n",
        "              nb_channels=FLAGS.NB_CHANNELS,\n",
        "              nb_classes=FLAGS.NB_CLASSES)\n",
        "  model.summary()\n",
        "  model.compile(optimizer=Adam(learning_rate=LEARNING_RATE),   \n",
        "                loss=categorical_crossentropy,\n",
        "                metrics=['accuracy'])\n",
        "  if LOAD_WEIGHTS:\n",
        "    model.load_weights=os.path.join(MODEL_DIR,'{}.h5'.format(MODEL_NAME))\n"
      ],
      "execution_count": 10,
      "outputs": [
        {
          "output_type": "stream",
          "text": [
            "INFO:tensorflow:Initializing the TPU system: 10.49.42.130:8470\n",
            "INFO:tensorflow:Finished initializing TPU system.\n",
            "INFO:tensorflow:Querying Tensorflow master (grpc://10.49.42.130:8470) for TPU system metadata.\n",
            "INFO:tensorflow:Found TPU system:\n",
            "INFO:tensorflow:*** Num TPU Cores: 8\n",
            "INFO:tensorflow:*** Num TPU Workers: 1\n",
            "INFO:tensorflow:*** Num TPU Cores Per Worker: 8\n",
            "INFO:tensorflow:*** Available Device: _DeviceAttributes(/job:worker/replica:0/task:0/device:CPU:0, CPU, -1, 16987798856630431758)\n",
            "INFO:tensorflow:*** Available Device: _DeviceAttributes(/job:worker/replica:0/task:0/device:TPU:0, TPU, 17179869184, 10344458332181360022)\n",
            "INFO:tensorflow:*** Available Device: _DeviceAttributes(/job:worker/replica:0/task:0/device:TPU:1, TPU, 17179869184, 5423374367154161076)\n",
            "INFO:tensorflow:*** Available Device: _DeviceAttributes(/job:worker/replica:0/task:0/device:TPU:2, TPU, 17179869184, 1463399863322674858)\n",
            "INFO:tensorflow:*** Available Device: _DeviceAttributes(/job:worker/replica:0/task:0/device:TPU:3, TPU, 17179869184, 14319538073957609690)\n",
            "INFO:tensorflow:*** Available Device: _DeviceAttributes(/job:worker/replica:0/task:0/device:TPU:4, TPU, 17179869184, 7128244198844131651)\n",
            "INFO:tensorflow:*** Available Device: _DeviceAttributes(/job:worker/replica:0/task:0/device:TPU:5, TPU, 17179869184, 4581999642024784193)\n",
            "INFO:tensorflow:*** Available Device: _DeviceAttributes(/job:worker/replica:0/task:0/device:TPU:6, TPU, 17179869184, 11345416841800977193)\n",
            "INFO:tensorflow:*** Available Device: _DeviceAttributes(/job:worker/replica:0/task:0/device:TPU:7, TPU, 17179869184, 6199123212053419651)\n",
            "INFO:tensorflow:*** Available Device: _DeviceAttributes(/job:worker/replica:0/task:0/device:TPU_SYSTEM:0, TPU_SYSTEM, 8589934592, 14647237267238014552)\n",
            "INFO:tensorflow:*** Available Device: _DeviceAttributes(/job:worker/replica:0/task:0/device:XLA_CPU:0, XLA_CPU, 17179869184, 13790675313373430284)\n",
            "WARNING:tensorflow:From /usr/local/lib/python3.6/dist-packages/tensorflow_core/python/ops/resource_variable_ops.py:1630: calling BaseResourceVariable.__init__ (from tensorflow.python.ops.resource_variable_ops) with constraint is deprecated and will be removed in a future version.\n",
            "Instructions for updating:\n",
            "If using Keras pass *_constraint arguments to layers.\n",
            "WARNING:tensorflow:From /usr/local/lib/python3.6/dist-packages/tensorflow_core/python/keras/layers/normalization.py:625: where (from tensorflow.python.ops.array_ops) is deprecated and will be removed in a future version.\n",
            "Instructions for updating:\n",
            "Use tf.where in 2.0, which has the same broadcast rule as np.where\n",
            "Model: \"model\"\n",
            "_________________________________________________________________\n",
            "Layer (type)                 Output Shape              Param #   \n",
            "=================================================================\n",
            "input_1 (InputLayer)         [(None, 6, 64, 64, 3)]    0         \n",
            "_________________________________________________________________\n",
            "time_distributed (TimeDistri (None, 6, 32, 32, 128)    3584      \n",
            "_________________________________________________________________\n",
            "time_distributed_1 (TimeDist (None, 6, 16, 16, 128)    0         \n",
            "_________________________________________________________________\n",
            "time_distributed_2 (TimeDist (None, 6, 16, 16, 128)    0         \n",
            "_________________________________________________________________\n",
            "batch_normalization (BatchNo (None, 6, 16, 16, 128)    512       \n",
            "_________________________________________________________________\n",
            "time_distributed_3 (TimeDist (None, 6, 8, 8, 256)      295168    \n",
            "_________________________________________________________________\n",
            "time_distributed_4 (TimeDist (None, 6, 4, 4, 256)      0         \n",
            "_________________________________________________________________\n",
            "time_distributed_5 (TimeDist (None, 6, 4, 4, 256)      0         \n",
            "_________________________________________________________________\n",
            "batch_normalization_1 (Batch (None, 6, 4, 4, 256)      1024      \n",
            "_________________________________________________________________\n",
            "time_distributed_6 (TimeDist (None, 6, 2, 2, 512)      1180160   \n",
            "_________________________________________________________________\n",
            "time_distributed_7 (TimeDist (None, 6, 1, 1, 512)      0         \n",
            "_________________________________________________________________\n",
            "time_distributed_8 (TimeDist (None, 6, 1, 1, 512)      0         \n",
            "_________________________________________________________________\n",
            "batch_normalization_2 (Batch (None, 6, 1, 1, 512)      2048      \n",
            "_________________________________________________________________\n",
            "time_distributed_9 (TimeDist (None, 6, 512)            0         \n",
            "_________________________________________________________________\n",
            "lstm (LSTM)                  (None, 6, 256)            787456    \n",
            "_________________________________________________________________\n",
            "lstm_1 (LSTM)                (None, 6, 128)            197120    \n",
            "_________________________________________________________________\n",
            "lstm_2 (LSTM)                (None, 6, 64)             49408     \n",
            "_________________________________________________________________\n",
            "lstm_3 (LSTM)                (None, 32)                12416     \n",
            "_________________________________________________________________\n",
            "DENSE_1 (Dense)              (None, 28)                924       \n",
            "_________________________________________________________________\n",
            "DROP_OUT_D-1 (Dropout)       (None, 28)                0         \n",
            "_________________________________________________________________\n",
            "DENSE_2 (Dense)              (None, 24)                696       \n",
            "_________________________________________________________________\n",
            "DROP_OUT_D-2 (Dropout)       (None, 24)                0         \n",
            "_________________________________________________________________\n",
            "DENSE_CLASS (Dense)          (None, 17)                425       \n",
            "=================================================================\n",
            "Total params: 2,530,941\n",
            "Trainable params: 2,529,149\n",
            "Non-trainable params: 1,792\n",
            "_________________________________________________________________\n"
          ],
          "name": "stdout"
        }
      ]
    },
    {
      "cell_type": "markdown",
      "metadata": {
        "colab_type": "text",
        "id": "9nQXx8YRNSyr"
      },
      "source": [
        "#### Train\n"
      ]
    },
    {
      "cell_type": "code",
      "metadata": {
        "colab_type": "code",
        "id": "OWTUQlweNYYN",
        "colab": {
          "base_uri": "https://localhost:8080/",
          "height": 632
        },
        "outputId": "d54f7e5a-7cb4-415d-b08e-037e4b021830"
      },
      "source": [
        "from tensorflow.keras.callbacks import ModelCheckpoint\n",
        "checkpoint = ModelCheckpoint(filepath=os.path.join(MODEL_DIR,'{}.h5'.format(MODEL_NAME)), verbose=1, save_best_only=True)\n",
        "history=model.fit(train_in_fn(),\n",
        "                    epochs= EPOCHS,\n",
        "                    steps_per_epoch=STEPS_PER_EPOCH, \n",
        "                    validation_data=eval_in_fn(),\n",
        "                    validation_steps=VALIDATION_STEPS,\n",
        "                    callbacks=[checkpoint],\n",
        "                    verbose=1)"
      ],
      "execution_count": 11,
      "outputs": [
        {
          "output_type": "stream",
          "text": [
            "Epoch 1/5\n",
            "10350/10352 [============================>.] - ETA: 0s - loss: 2.8381 - acc: 0.1007INFO:tensorflow:Running validation at fit epoch: 0\n",
            "160/160 [==============================] - 21s 128ms/step\n",
            "160/160 [==============================] - 21s 128ms/step\n",
            "\n",
            "Epoch 00001: val_loss improved from inf to 2.74059, saving model to /content/gdrive/My Drive/PROJECTS/HACT/Model/LRCN.h5\n",
            "10352/10352 [==============================] - 264s 26ms/step - loss: 2.8381 - acc: 0.1007 - val_loss: 2.7406 - val_acc: 0.1492\n",
            "Epoch 2/5\n",
            "10351/10352 [============================>.] - ETA: 0s - loss: 2.6977 - acc: 0.1612INFO:tensorflow:Running validation at fit epoch: 1\n",
            "160/160 [==============================] - 28s 178ms/step\n",
            "160/160 [==============================] - 28s 178ms/step\n",
            "\n",
            "Epoch 00002: val_loss improved from 2.74059 to 2.51478, saving model to /content/gdrive/My Drive/PROJECTS/HACT/Model/LRCN.h5\n",
            "10352/10352 [==============================] - 257s 25ms/step - loss: 2.6977 - acc: 0.1612 - val_loss: 2.5148 - val_acc: 0.2402\n",
            "Epoch 3/5\n",
            "10349/10352 [============================>.] - ETA: 0s - loss: 2.5340 - acc: 0.2186INFO:tensorflow:Running validation at fit epoch: 2\n",
            "160/160 [==============================] - 37s 233ms/step\n",
            "160/160 [==============================] - 37s 233ms/step\n",
            "\n",
            "Epoch 00003: val_loss improved from 2.51478 to 2.26968, saving model to /content/gdrive/My Drive/PROJECTS/HACT/Model/LRCN.h5\n",
            "10352/10352 [==============================] - 276s 27ms/step - loss: 2.5339 - acc: 0.2187 - val_loss: 2.2697 - val_acc: 0.3309\n",
            "Epoch 4/5\n",
            "10350/10352 [============================>.] - ETA: 0s - loss: 2.3788 - acc: 0.2716INFO:tensorflow:Running validation at fit epoch: 3\n",
            "160/160 [==============================] - 48s 298ms/step\n",
            "160/160 [==============================] - 48s 298ms/step\n",
            "\n",
            "Epoch 00004: val_loss improved from 2.26968 to 2.06628, saving model to /content/gdrive/My Drive/PROJECTS/HACT/Model/LRCN.h5\n",
            "10352/10352 [==============================] - 294s 28ms/step - loss: 2.3788 - acc: 0.2716 - val_loss: 2.0663 - val_acc: 0.3871\n",
            "Epoch 5/5\n",
            "10348/10352 [============================>.] - ETA: 0s - loss: 2.2374 - acc: 0.3205INFO:tensorflow:Running validation at fit epoch: 4\n",
            "160/160 [==============================] - 59s 370ms/step\n",
            "160/160 [==============================] - 59s 370ms/step\n",
            "\n",
            "Epoch 00005: val_loss improved from 2.06628 to 1.90584, saving model to /content/gdrive/My Drive/PROJECTS/HACT/Model/LRCN.h5\n",
            "10352/10352 [==============================] - 315s 30ms/step - loss: 2.2373 - acc: 0.3205 - val_loss: 1.9058 - val_acc: 0.4373\n"
          ],
          "name": "stdout"
        }
      ]
    },
    {
      "cell_type": "markdown",
      "metadata": {
        "colab_type": "text",
        "id": "Or0XpoYadSF7"
      },
      "source": [
        "#### Save Model\n",
        "\n"
      ]
    },
    {
      "cell_type": "code",
      "metadata": {
        "colab_type": "code",
        "id": "dFDwgbUVdSwY",
        "colab": {}
      },
      "source": [
        "model.save_weights(os.path.join(MODEL_DIR,'{}_final.h5'.format(MODEL_NAME)))"
      ],
      "execution_count": 0,
      "outputs": []
    },
    {
      "cell_type": "markdown",
      "metadata": {
        "colab_type": "text",
        "id": "J1M9sjHIbSnf"
      },
      "source": [
        "#### Plot Training Histoty"
      ]
    },
    {
      "cell_type": "code",
      "metadata": {
        "colab_type": "code",
        "id": "ndNSS7XIbXaK",
        "colab": {
          "base_uri": "https://localhost:8080/",
          "height": 295
        },
        "outputId": "5ff96991-3850-48fa-c1f7-a8b694759676"
      },
      "source": [
        "import matplotlib.pyplot as plt\n",
        "%matplotlib inline\n",
        "plt.plot(history.history['loss'])\n",
        "plt.plot(history.history['val_loss'])\n",
        "plt.title('LOSS History')\n",
        "plt.ylabel('loss')\n",
        "plt.xlabel('epoch')\n",
        "plt.legend(['train', 'validation'], loc='upper left')\n",
        "plt.savefig(os.path.join(MODEL_DIR,'{}_history.png'.format(MODEL_NAME)))"
      ],
      "execution_count": 13,
      "outputs": [
        {
          "output_type": "display_data",
          "data": {
            "image/png": "[encoded data removed]",
            "text/plain": [
              "<Figure size 432x288 with 1 Axes>"
            ]
          },
          "metadata": {
            "tags": []
          }
        }
      ]
    }
  ]
}