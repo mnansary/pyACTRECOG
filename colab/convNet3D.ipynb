{
  "nbformat": 4,
  "nbformat_minor": 0,
  "metadata": {
    "accelerator": "TPU",
    "colab": {
      "name": "convNet3D.ipynb",
      "provenance": [],
      "collapsed_sections": []
    },
    "kernelspec": {
      "name": "python3",
      "display_name": "Python 3"
    },
    "language_info": {
      "codemirror_mode": {
        "name": "ipython",
        "version": 3
      },
      "file_extension": ".py",
      "mimetype": "text/x-python",
      "name": "python",
      "nbconvert_exporter": "python",
      "pygments_lexer": "ipython3",
      "version": "3.6.8"
    }
  },
  "cells": [
    {
      "cell_type": "markdown",
      "metadata": {
        "colab_type": "text",
        "id": "view-in-github"
      },
      "source": [
        "<a href=\"https://colab.research.google.com/github/mnansary/pyF2O/blob/master/colab_gen_unet.ipynb\" target=\"_parent\"><img src=\"https://colab.research.google.com/assets/colab-badge.svg\" alt=\"Open In Colab\"/></a>"
      ]
    },
    {
      "cell_type": "markdown",
      "metadata": {
        "colab_type": "text",
        "id": "1ojVYZ7Spzpv"
      },
      "source": [
        "# colab specific task\n",
        "*   mount google drive\n",
        "*   TPU check\n",
        "*   Check TF version"
      ]
    },
    {
      "cell_type": "code",
      "metadata": {
        "id": "tsY7_mMwWC3h",
        "colab_type": "code",
        "colab": {}
      },
      "source": [
        "!pip3 install tensorflow==1.13.1"
      ],
      "execution_count": 0,
      "outputs": []
    },
    {
      "cell_type": "code",
      "metadata": {
        "colab_type": "code",
        "id": "--q4JaV2ps6z",
        "colab": {}
      },
      "source": [
        "from google.colab import drive\n",
        "drive.mount('/content/gdrive')"
      ],
      "execution_count": 0,
      "outputs": []
    },
    {
      "cell_type": "code",
      "metadata": {
        "colab_type": "code",
        "id": "9NVN35lELc_p",
        "colab": {}
      },
      "source": [
        "\n",
        "# tpu check\n",
        "import os\n",
        "import pprint\n",
        "import tensorflow as tf\n",
        "if 'COLAB_TPU_ADDR' not in os.environ:\n",
        "  print('ERROR: Not connected to a TPU runtime; please see the first cell in this notebook for instructions!')\n",
        "else:\n",
        "  TPU_ADDRESS = 'grpc://' + os.environ['COLAB_TPU_ADDR']\n",
        "  print ('TPU address is', TPU_ADDRESS)\n",
        "\n",
        "  with tf.Session(TPU_ADDRESS) as session:\n",
        "    devices = session.list_devices()\n",
        "    \n",
        "  print('TPU devices:')\n",
        "  pprint.pprint(devices)\n",
        "\n"
      ],
      "execution_count": 0,
      "outputs": []
    },
    {
      "cell_type": "markdown",
      "metadata": {
        "colab_type": "text",
        "id": "dxefiHZ4qlHA"
      },
      "source": [
        "# ConvNet3D Model Training"
      ]
    },
    {
      "cell_type": "markdown",
      "metadata": {
        "colab_type": "text",
        "id": "blwtSzOarVYM"
      },
      "source": [
        "#### Data \n",
        "* Set **FLAGS** and **PARAMS**\n",
        "* Get **Train** and **Eval** Data\n"
      ]
    },
    {
      "cell_type": "code",
      "metadata": {
        "colab_type": "code",
        "id": "ySSaUDNQgwBK",
        "colab": {}
      },
      "source": [
        "cd /content/gdrive/My\\ Drive/PROJECTS/HACT/pyACTRECOG/"
      ],
      "execution_count": 0,
      "outputs": []
    },
    {
      "cell_type": "code",
      "metadata": {
        "colab_type": "code",
        "id": "BOro7D1krWYf",
        "colab": {}
      },
      "source": [
        "import sys\n",
        "sys.path.append('.')\n",
        "\n",
        "from coreLib.utils import readh5\n",
        "import numpy as np \n",
        "class PARAMS:\n",
        "    DS_DIR  = '/content/gdrive/My Drive/PROJECTS/HACT/Data/' # @param\n",
        "    BATCH_SIZE      = 128  # @param\n",
        "    NUM_EPOCHS      = 100  # @param\n",
        "    IMAGE_DIM       = 32  # @param\n",
        "    NB_CHANNELS     = 1    # @param\n",
        "    X_TRAIN_IDEN    = 'X_Train.h5'  # @param\n",
        "    Y_TRAIN_IDEN    = 'Y_Train.h5'  # @param\n",
        "    X_EVAL_IDEN     = 'X_Eval.h5'  # @param\n",
        "    Y_EVAL_IDEN     = 'Y_Eval.h5'  # @param\n",
        "    MODEL_DIR       = '/content/gdrive/My Drive/PROJECTS/HACT/Model/' # @param\n",
        "    MODEL_NAME      = 'convNet3D' # @param\n",
        "    MIN_SEQ_LEN     = 6           #@param\n",
        "    NB_CLASSES      = 17 #@param\n",
        "X_train=readh5(os.path.join(PARAMS.DS_DIR,PARAMS.X_TRAIN_IDEN))\n",
        "Y_train=readh5(os.path.join(PARAMS.DS_DIR,PARAMS.Y_TRAIN_IDEN))\n",
        "X_eval=readh5(os.path.join(PARAMS.DS_DIR,PARAMS.X_EVAL_IDEN))\n",
        "Y_eval=readh5(os.path.join(PARAMS.DS_DIR,PARAMS.Y_EVAL_IDEN))\n",
        "\n",
        "X_train=X_train.astype('float32')/255.0\n",
        "X_eval=X_eval.astype('float32')/255.0\n",
        "\n",
        "print(X_train.shape)\n",
        "print(Y_train.shape)\n",
        "print(X_eval.shape)\n",
        "print(Y_eval.shape)\n",
        "\n"
      ],
      "execution_count": 0,
      "outputs": []
    },
    {
      "cell_type": "markdown",
      "metadata": {
        "colab_type": "text",
        "id": "XMWNlaqLNIPY"
      },
      "source": [
        "#### COMPILE MODEL\n",
        "\n",
        "\n"
      ]
    },
    {
      "cell_type": "code",
      "metadata": {
        "colab_type": "code",
        "id": "_WMdSlCZJPWi",
        "colab": {}
      },
      "source": [
        "import sys\n",
        "sys.path.append('.')\n",
        "from tensorflow.keras.losses import categorical_crossentropy\n",
        "from tensorflow.keras.optimizers import Adam\n",
        "from coreLib.model import convNet3D\n",
        "\n",
        "model=convNet3D(seq_len=PARAMS.MIN_SEQ_LEN,\n",
        "                img_dim=PARAMS.IMAGE_DIM,\n",
        "                nb_channels=PARAMS.NB_CHANNELS,\n",
        "                nb_classes=PARAMS.NB_CLASSES)\n",
        "model.summary()\n",
        "model.compile(optimizer=Adam(), \n",
        "              loss=categorical_crossentropy,\n",
        "              metrics=['accuracy'])\n",
        "\n"
      ],
      "execution_count": 0,
      "outputs": []
    },
    {
      "cell_type": "markdown",
      "metadata": {
        "id": "cNNe-VLhb7p9",
        "colab_type": "text"
      },
      "source": [
        "#### EXPORT TO TPU MODEL"
      ]
    },
    {
      "cell_type": "code",
      "metadata": {
        "id": "t8XLB7PLb_SO",
        "colab_type": "code",
        "colab": {}
      },
      "source": [
        "TPU_WORKER = 'grpc://' + os.environ['COLAB_TPU_ADDR']\n",
        "tf.logging.set_verbosity(tf.logging.INFO)\n",
        "cluster_resolver=tf.contrib.cluster_resolver.TPUClusterResolver(TPU_WORKER)\n",
        "strategy=tf.contrib.tpu.TPUDistributionStrategy(cluster_resolver)\n",
        "model = tf.contrib.tpu.keras_to_tpu_model(model,strategy=strategy)\n"
      ],
      "execution_count": 0,
      "outputs": []
    },
    {
      "cell_type": "markdown",
      "metadata": {
        "colab_type": "text",
        "id": "9nQXx8YRNSyr"
      },
      "source": [
        "#### Train\n"
      ]
    },
    {
      "cell_type": "code",
      "metadata": {
        "colab_type": "code",
        "id": "OWTUQlweNYYN",
        "colab": {}
      },
      "source": [
        "history=model.fit(X_train,Y_train,\n",
        "                  validation_data=(X_eval,Y_eval),\n",
        "                  epochs=PARAMS.NUM_EPOCHS,\n",
        "                  batch_size=PARAMS.BATCH_SIZE, \n",
        "                  verbose=1)\n"
      ],
      "execution_count": 0,
      "outputs": []
    },
    {
      "cell_type": "markdown",
      "metadata": {
        "id": "Or0XpoYadSF7",
        "colab_type": "text"
      },
      "source": [
        "#### Save Model\n",
        "\n"
      ]
    },
    {
      "cell_type": "code",
      "metadata": {
        "id": "dFDwgbUVdSwY",
        "colab_type": "code",
        "colab": {}
      },
      "source": [
        "model.save_weights(os.path.join(PARAMS.MODEL_DIR,'{}_final.h5'.format(PARAMS.MODEL_NAME)))"
      ],
      "execution_count": 0,
      "outputs": []
    },
    {
      "cell_type": "markdown",
      "metadata": {
        "colab_type": "text",
        "id": "J1M9sjHIbSnf"
      },
      "source": [
        "#### Plot Training Histoty"
      ]
    },
    {
      "cell_type": "code",
      "metadata": {
        "colab_type": "code",
        "id": "ndNSS7XIbXaK",
        "colab": {}
      },
      "source": [
        "import matplotlib.pyplot as plt\n",
        "%matplotlib inline\n",
        "plt.plot(history.history['loss'])\n",
        "plt.plot(history.history['val_loss'])\n",
        "plt.title('LOSS History')\n",
        "plt.ylabel('loss')\n",
        "plt.xlabel('epoch')\n",
        "plt.legend(['train', 'validation'], loc='upper left')\n",
        "plt.savefig(os.path.join(PARAMS.MODEL_DIR,'{}_history.png'.format(PARAMS.MODEL_NAME)))"
      ],
      "execution_count": 0,
      "outputs": []
    }
  ]
}