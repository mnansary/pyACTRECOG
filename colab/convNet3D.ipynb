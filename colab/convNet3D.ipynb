{
 "cells": [
  {
   "cell_type": "markdown",
   "metadata": {
    "colab_type": "text",
    "id": "view-in-github"
   },
   "source": [
    "<a href=\"https://colab.research.google.com/github/mnansary/pyF2O/blob/master/colab_gen_unet.ipynb\" target=\"_parent\"><img src=\"https://colab.research.google.com/assets/colab-badge.svg\" alt=\"Open In Colab\"/></a>"
   ]
  },
  {
   "cell_type": "markdown",
   "metadata": {
    "colab_type": "text",
    "id": "1ojVYZ7Spzpv"
   },
   "source": [
    "# colab specific task\n",
    "*   mount google drive\n",
    "*   TPU check\n",
    "*   Check TF version\n",
    "*   Change to git repo "
   ]
  },
  {
   "cell_type": "code",
   "execution_count": 0,
   "metadata": {
    "colab": {
     "base_uri": "https://localhost:8080/",
     "height": 34
    },
    "colab_type": "code",
    "id": "--q4JaV2ps6z",
    "outputId": "5497d2f9-e204-4cbc-8056-b27616f8d24c"
   },
   "outputs": [
    {
     "name": "stdout",
     "output_type": "stream",
     "text": [
      "Drive already mounted at /content/gdrive; to attempt to forcibly remount, call drive.mount(\"/content/gdrive\", force_remount=True).\n"
     ]
    }
   ],
   "source": [
    "from google.colab import drive\n",
    "drive.mount('/content/gdrive')"
   ]
  },
  {
   "cell_type": "code",
   "execution_count": 0,
   "metadata": {
    "colab": {
     "base_uri": "https://localhost:8080/",
     "height": 255
    },
    "colab_type": "code",
    "id": "9NVN35lELc_p",
    "outputId": "b3adb4df-3f2c-41f8-ed89-57894b4f0ac4"
   },
   "outputs": [
    {
     "name": "stdout",
     "output_type": "stream",
     "text": [
      "TPU address is grpc://10.49.94.162:8470\n",
      "TPU devices:\n",
      "[_DeviceAttributes(/job:tpu_worker/replica:0/task:0/device:CPU:0, CPU, -1, 16207682184244365685),\n",
      " _DeviceAttributes(/job:tpu_worker/replica:0/task:0/device:XLA_CPU:0, XLA_CPU, 17179869184, 2961855202938400171),\n",
      " _DeviceAttributes(/job:tpu_worker/replica:0/task:0/device:TPU:0, TPU, 17179869184, 1254055479044319684),\n",
      " _DeviceAttributes(/job:tpu_worker/replica:0/task:0/device:TPU:1, TPU, 17179869184, 4819075932927995371),\n",
      " _DeviceAttributes(/job:tpu_worker/replica:0/task:0/device:TPU:2, TPU, 17179869184, 15071073411589098388),\n",
      " _DeviceAttributes(/job:tpu_worker/replica:0/task:0/device:TPU:3, TPU, 17179869184, 3634996257852310545),\n",
      " _DeviceAttributes(/job:tpu_worker/replica:0/task:0/device:TPU:4, TPU, 17179869184, 4291234264391328660),\n",
      " _DeviceAttributes(/job:tpu_worker/replica:0/task:0/device:TPU:5, TPU, 17179869184, 12898002072940587110),\n",
      " _DeviceAttributes(/job:tpu_worker/replica:0/task:0/device:TPU:6, TPU, 17179869184, 2052839844020411978),\n",
      " _DeviceAttributes(/job:tpu_worker/replica:0/task:0/device:TPU:7, TPU, 17179869184, 16110692515168440215),\n",
      " _DeviceAttributes(/job:tpu_worker/replica:0/task:0/device:TPU_SYSTEM:0, TPU_SYSTEM, 8589934592, 9516569675108571107)]\n"
     ]
    },
    {
     "data": {
      "text/plain": [
       "'1.15.0'"
      ]
     },
     "execution_count": 2,
     "metadata": {
      "tags": []
     },
     "output_type": "execute_result"
    }
   ],
   "source": [
    "\n",
    "# tpu check\n",
    "import os\n",
    "import pprint\n",
    "import tensorflow as tf\n",
    "if 'COLAB_TPU_ADDR' not in os.environ:\n",
    "  print('ERROR: Not connected to a TPU runtime; please see the first cell in this notebook for instructions!')\n",
    "else:\n",
    "  TPU_ADDRESS = 'grpc://' + os.environ['COLAB_TPU_ADDR']\n",
    "  print ('TPU address is', TPU_ADDRESS)\n",
    "\n",
    "  with tf.Session(TPU_ADDRESS) as session:\n",
    "    devices = session.list_devices()\n",
    "    \n",
    "  print('TPU devices:')\n",
    "  pprint.pprint(devices)\n",
    "\n",
    "tf.__version__"
   ]
  },
  {
   "cell_type": "code",
   "execution_count": 0,
   "metadata": {
    "colab": {
     "base_uri": "https://localhost:8080/",
     "height": 34
    },
    "colab_type": "code",
    "id": "ySSaUDNQgwBK",
    "outputId": "592f48df-d07d-4e4e-c424-085aea459085"
   },
   "outputs": [
    {
     "name": "stdout",
     "output_type": "stream",
     "text": [
      "/content/gdrive/My Drive/PROJECTS/HACT/pyACTRECOG\n"
     ]
    }
   ],
   "source": [
    "cd /content/gdrive/My\\ Drive/PROJECTS/HACT/pyACTRECOG/"
   ]
  },
  {
   "cell_type": "markdown",
   "metadata": {
    "colab_type": "text",
    "id": "6gqGOIRmujw5"
   },
   "source": [
    "# GCS specific task \n",
    "* **auth user**\n",
    "* **save** and **upload** credentials to **tpu**\n",
    "* set project information"
   ]
  },
  {
   "cell_type": "code",
   "execution_count": 0,
   "metadata": {
    "colab": {},
    "colab_type": "code",
    "id": "6zBp1CZeupWY"
   },
   "outputs": [],
   "source": [
    "# auth user for cloud SDK\n",
    "from google.colab import auth\n",
    "auth.authenticate_user()"
   ]
  },
  {
   "cell_type": "code",
   "execution_count": 0,
   "metadata": {
    "colab": {
     "base_uri": "https://localhost:8080/",
     "height": 170
    },
    "colab_type": "code",
    "id": "vbLxepOqurpI",
    "outputId": "e2363f82-be61-42e5-bf55-8b182577d54e"
   },
   "outputs": [
    {
     "name": "stdout",
     "output_type": "stream",
     "text": [
      "WARNING:tensorflow:\n",
      "The TensorFlow contrib module will not be included in TensorFlow 2.0.\n",
      "For more information, please see:\n",
      "  * https://github.com/tensorflow/community/blob/master/rfcs/20180907-contrib-sunset.md\n",
      "  * https://github.com/tensorflow/addons\n",
      "  * https://github.com/tensorflow/io (for I/O related ops)\n",
      "If you depend on functionality not listed there, please file an issue.\n",
      "\n",
      "Service Account: 32555940559\n"
     ]
    }
   ],
   "source": [
    "# Save credentials\n",
    "import json\n",
    "SERVICE_KEY_PATH='/content/adc.json' # @param\n",
    "# Upload credentials to TPU.\n",
    "with tf.Session(TPU_ADDRESS) as sess:    \n",
    "    with open(SERVICE_KEY_PATH, 'r') as f:\n",
    "        auth_info = json.load(f)\n",
    "        tf.contrib.cloud.configure_gcs(sess, credentials=auth_info)\n",
    "# set service_account\n",
    "JSON_DATA=json.load(open(SERVICE_KEY_PATH))\n",
    "SERVICE_ACCOUNT=str(JSON_DATA['client_id']).split('.')[0]\n",
    "print('Service Account:',SERVICE_ACCOUNT)"
   ]
  },
  {
   "cell_type": "markdown",
   "metadata": {
    "colab_type": "text",
    "id": "lUUry52GuuzY"
   },
   "source": [
    "#### SET PROJECT INFORMATION "
   ]
  },
  {
   "cell_type": "code",
   "execution_count": 0,
   "metadata": {
    "colab": {
     "base_uri": "https://localhost:8080/",
     "height": 68
    },
    "colab_type": "code",
    "id": "0LQRPfsCuxl-",
    "outputId": "03f71524-8278-4552-bd72-37ae087ec1f9"
   },
   "outputs": [
    {
     "name": "stdout",
     "output_type": "stream",
     "text": [
      "Updated property [core/project].\n",
      "gs://tfalldata/TFRECORD/Eval/\n",
      "gs://tfalldata/TFRECORD/Train/\n"
     ]
    }
   ],
   "source": [
    "PROJECT_ID    ='record-1106154'     # @param \n",
    "BUCKET        ='tfalldata'          # @param \n",
    "TFIDEN        ='TFRECORD'            # @param\n",
    "# LIST FILES\n",
    "TFRECORDS_DIR= 'gs://{}/{}/'.format(BUCKET,TFIDEN)\n",
    "!gcloud config set project {PROJECT_ID}\n",
    "!gsutil ls {TFRECORDS_DIR}\n"
   ]
  },
  {
   "cell_type": "markdown",
   "metadata": {
    "colab_type": "text",
    "id": "dxefiHZ4qlHA"
   },
   "source": [
    "# ConvNet3D Model Training"
   ]
  },
  {
   "cell_type": "markdown",
   "metadata": {
    "colab_type": "text",
    "id": "blwtSzOarVYM"
   },
   "source": [
    "#### Data \n",
    "* Set **FLAGS** and **PARAMS**\n",
    "* Create **Train** and **Eval** Data Generator\n"
   ]
  },
  {
   "cell_type": "code",
   "execution_count": 0,
   "metadata": {
    "cellView": "both",
    "colab": {},
    "colab_type": "code",
    "id": "BOro7D1krWYf"
   },
   "outputs": [],
   "source": [
    "import sys\n",
    "sys.path.append('.')\n",
    "import numpy as np \n",
    "\n",
    "class FLAGS:\n",
    "    BATCH_SIZE      = 32  #@param\n",
    "    IMAGE_DIM       = 64   #@param\n",
    "    NB_CHANNELS     = 3    #@param\n",
    "    MIN_SEQ_LEN     = 6    #@param\n",
    "    NB_CLASSES      = 17   #@param\n",
    "    SHUFFLE_BUFFER  = 6400 #@param\n",
    "\n",
    "MODEL_DIR           = '/content/gdrive/My Drive/PROJECTS/HACT/Model/' # @param\n",
    "MODEL_NAME          = 'convNet3D' # @param\n",
    "EPOCHS              =  5           # @param\n",
    "NB_TRAIN_DATA       =  51200       # @param\n",
    "NB_EVAL_DATA        =  3072       # @param\n",
    "NB_TOTAL_DATA       =  NB_TRAIN_DATA + NB_EVAL_DATA \n",
    "STEPS_PER_EPOCH     =  NB_TOTAL_DATA // FLAGS.BATCH_SIZE \n",
    "VALIDATION_STEPS    =  NB_EVAL_DATA  // FLAGS.BATCH_SIZE \n",
    "CHECK_DATA          =  False\n",
    "LEARNING_RATE       = 1e-5 #@param\n",
    "\n",
    "LOAD_WEIGHTS=True #@param\n",
    "EPOCHS_DONE_BEFORE_RECONNECT=0  #@param\n",
    "EPOCHS=EPOCHS-EPOCHS_DONE_BEFORE_RECONNECT"
   ]
  },
  {
   "cell_type": "markdown",
   "metadata": {
    "colab_type": "text",
    "id": "1guqi_rau5kA"
   },
   "source": [
    "#### Data Generator"
   ]
  },
  {
   "cell_type": "code",
   "execution_count": 0,
   "metadata": {
    "colab": {
     "base_uri": "https://localhost:8080/",
     "height": 34
    },
    "colab_type": "code",
    "id": "WQy7N0hEu8D5",
    "outputId": "663e7bb4-67a3-44d3-af80-704daf902ee5"
   },
   "outputs": [
    {
     "name": "stdout",
     "output_type": "stream",
     "text": [
      "<Bucket: tfalldata>\n"
     ]
    }
   ],
   "source": [
    "from google.cloud import storage\n",
    "from functools import partial\n",
    "\n",
    "client = storage.Client(PROJECT_ID)\n",
    "# get bucket from the project\n",
    "bucket=client.get_bucket(BUCKET)\n",
    "print(bucket)\n",
    "\n",
    "def data_input_fn(FLAGS,mode): \n",
    "    \n",
    "    def _parser(example):\n",
    "      data  ={ 'feats':tf.io.FixedLenFeature((FLAGS.MIN_SEQ_LEN,FLAGS.IMAGE_DIM,FLAGS.IMAGE_DIM,FLAGS.NB_CHANNELS),tf.float32),\n",
    "                'label':tf.io.FixedLenFeature((),tf.int64)\n",
    "      }    \n",
    "      \n",
    "      parsed_example=tf.io.parse_single_example(example,data)\n",
    "      \n",
    "      feats=tf.cast(parsed_example['feats'],tf.float32)\n",
    "      feats=tf.reshape(feats,(FLAGS.MIN_SEQ_LEN,FLAGS.IMAGE_DIM,FLAGS.IMAGE_DIM,FLAGS.NB_CHANNELS))\n",
    "      \n",
    "      idx = tf.cast(parsed_example['label'], tf.int64)\n",
    "      label=tf.one_hot(idx,FLAGS.NB_CLASSES,dtype=tf.int64)\n",
    "      \n",
    "      return feats,label\n",
    "\n",
    "    dataset = tf.data.TFRecordDataset([os.path.join('gs://{}/'.format(BUCKET), f.name) for f in bucket.list_blobs(prefix='{}/{}'.format(TFIDEN,mode))])\n",
    "    #dataset = dataset.cache()\n",
    "    dataset = dataset.map(_parser)\n",
    "    dataset = dataset.shuffle(FLAGS.SHUFFLE_BUFFER,reshuffle_each_iteration=True)\n",
    "    dataset = dataset.repeat()\n",
    "    dataset = dataset.batch(FLAGS.BATCH_SIZE,drop_remainder=True)\n",
    "    dataset = dataset.prefetch(-1) # autotune    \n",
    "    return dataset\n",
    "\n",
    "def train_in_fn():\n",
    "    return data_input_fn(FLAGS,'Train')    \n",
    "\n",
    "def eval_in_fn():    \n",
    "    return data_input_fn(FLAGS,'Eval')\n"
   ]
  },
  {
   "cell_type": "markdown",
   "metadata": {
    "colab_type": "text",
    "id": "gR74N0HKF8Hg"
   },
   "source": [
    "#### MODEL"
   ]
  },
  {
   "cell_type": "code",
   "execution_count": 0,
   "metadata": {
    "colab": {},
    "colab_type": "code",
    "id": "6diIwhQpF5w1"
   },
   "outputs": [],
   "source": [
    "from tensorflow.keras.models import Model,Sequential\n",
    "from tensorflow.keras.layers import Conv3D,MaxPooling3D,Activation,ZeroPadding3D,TimeDistributed,Conv2D,MaxPooling2D\n",
    "from tensorflow.keras.layers import Dropout,Dense,Flatten,GlobalAveragePooling2D,LSTM\n",
    "from tensorflow.keras.layers import AveragePooling2D,Input,Concatenate,BatchNormalization,Input\n",
    "from tensorflow.keras.regularizers import l2\n",
    "\n",
    "def convNet3D(seq_len=6,img_dim=64,nb_channels=3,nb_classes=17,drop_out=0.2,weight_decay=1e-4):\n",
    "    in_shape=(seq_len,img_dim,img_dim,nb_channels)\n",
    "    feature_spec=[128,256,512,512]\n",
    "    IN=Input(shape=in_shape)\n",
    "    # 1st layer group\t    \n",
    "    X=Conv3D(64,(3, 3, 3), activation='relu',padding='same', name='INITIAL_CONV3D',kernel_regularizer=l2(weight_decay))(IN)\n",
    "    X=MaxPooling3D(pool_size=(1, 2, 2), strides=(1, 2, 2), name='INITIAL_POOL3D')(X)\n",
    "    X=Activation('relu')(X)\n",
    "    X=BatchNormalization()(X)\t    \n",
    "    # conv layer gropus\t    \n",
    "    for n,nb_filter in enumerate(feature_spec):\t   \n",
    "        X=Conv3D(nb_filter, (3, 3, 3), activation='relu',padding='same',kernel_regularizer=l2(weight_decay), name='CONV3D_{}_C1'.format(n+1))(X)\n",
    "        X=Conv3D(nb_filter, (3, 3, 3), activation='relu',padding='same',kernel_regularizer=l2(weight_decay), name='CONV3D_{}_c2'.format(n+1))(X)\n",
    "        X=MaxPooling3D(pool_size=(1, 2, 2), strides=(1, 2, 2), name='POOL3D_{}'.format(n+1))(X)\n",
    "        X=Activation('relu')(X)\n",
    "        X=BatchNormalization()(X)\t           \n",
    "    # FC layers group\t   \n",
    "    X=Flatten(name='FLATTEN')(X)\t    \n",
    "    X=Dense(4096, activation='relu', name='DENSE_1')(X)\n",
    "    if drop_out:\n",
    "            X=Dropout(drop_out,name='DROP_OUT_D-1')(X)\t    \n",
    "    X=Dense(4096, activation='relu', name='DENSE_2')(X)\n",
    "    if drop_out:\n",
    "            X=Dropout(drop_out,name='DROP_OUT_D-2')(X)\t    \n",
    "    X=Dense(nb_classes, activation='softmax',name='DENSE_CLASS')(X)\n",
    "    return Model(inputs=IN,outputs=X)\n"
   ]
  },
  {
   "cell_type": "markdown",
   "metadata": {
    "colab_type": "text",
    "id": "XMWNlaqLNIPY"
   },
   "source": [
    "#### COMPILE MODEL\n",
    "\n",
    "\n"
   ]
  },
  {
   "cell_type": "code",
   "execution_count": 0,
   "metadata": {
    "colab": {
     "base_uri": "https://localhost:8080/",
     "height": 1000
    },
    "colab_type": "code",
    "id": "_WMdSlCZJPWi",
    "outputId": "1af44a90-f0e5-4c59-9eb5-4301baa46920"
   },
   "outputs": [
    {
     "name": "stdout",
     "output_type": "stream",
     "text": [
      "INFO:tensorflow:Initializing the TPU system: 10.49.94.162:8470\n",
      "INFO:tensorflow:Finished initializing TPU system.\n",
      "INFO:tensorflow:Querying Tensorflow master (grpc://10.49.94.162:8470) for TPU system metadata.\n",
      "INFO:tensorflow:Found TPU system:\n",
      "INFO:tensorflow:*** Num TPU Cores: 8\n",
      "INFO:tensorflow:*** Num TPU Workers: 1\n",
      "INFO:tensorflow:*** Num TPU Cores Per Worker: 8\n",
      "INFO:tensorflow:*** Available Device: _DeviceAttributes(/job:worker/replica:0/task:0/device:CPU:0, CPU, -1, 16207682184244365685)\n",
      "INFO:tensorflow:*** Available Device: _DeviceAttributes(/job:worker/replica:0/task:0/device:TPU:0, TPU, 17179869184, 1254055479044319684)\n",
      "INFO:tensorflow:*** Available Device: _DeviceAttributes(/job:worker/replica:0/task:0/device:TPU:1, TPU, 17179869184, 4819075932927995371)\n",
      "INFO:tensorflow:*** Available Device: _DeviceAttributes(/job:worker/replica:0/task:0/device:TPU:2, TPU, 17179869184, 15071073411589098388)\n",
      "INFO:tensorflow:*** Available Device: _DeviceAttributes(/job:worker/replica:0/task:0/device:TPU:3, TPU, 17179869184, 3634996257852310545)\n",
      "INFO:tensorflow:*** Available Device: _DeviceAttributes(/job:worker/replica:0/task:0/device:TPU:4, TPU, 17179869184, 4291234264391328660)\n",
      "INFO:tensorflow:*** Available Device: _DeviceAttributes(/job:worker/replica:0/task:0/device:TPU:5, TPU, 17179869184, 12898002072940587110)\n",
      "INFO:tensorflow:*** Available Device: _DeviceAttributes(/job:worker/replica:0/task:0/device:TPU:6, TPU, 17179869184, 2052839844020411978)\n",
      "INFO:tensorflow:*** Available Device: _DeviceAttributes(/job:worker/replica:0/task:0/device:TPU:7, TPU, 17179869184, 16110692515168440215)\n",
      "INFO:tensorflow:*** Available Device: _DeviceAttributes(/job:worker/replica:0/task:0/device:TPU_SYSTEM:0, TPU_SYSTEM, 8589934592, 9516569675108571107)\n",
      "INFO:tensorflow:*** Available Device: _DeviceAttributes(/job:worker/replica:0/task:0/device:XLA_CPU:0, XLA_CPU, 17179869184, 2961855202938400171)\n",
      "WARNING:tensorflow:From /usr/local/lib/python3.6/dist-packages/tensorflow_core/python/ops/resource_variable_ops.py:1630: calling BaseResourceVariable.__init__ (from tensorflow.python.ops.resource_variable_ops) with constraint is deprecated and will be removed in a future version.\n",
      "Instructions for updating:\n",
      "If using Keras pass *_constraint arguments to layers.\n",
      "WARNING:tensorflow:From /usr/local/lib/python3.6/dist-packages/tensorflow_core/python/keras/layers/normalization.py:625: where (from tensorflow.python.ops.array_ops) is deprecated and will be removed in a future version.\n",
      "Instructions for updating:\n",
      "Use tf.where in 2.0, which has the same broadcast rule as np.where\n",
      "Model: \"model\"\n",
      "_________________________________________________________________\n",
      "Layer (type)                 Output Shape              Param #   \n",
      "=================================================================\n",
      "input_1 (InputLayer)         [(None, 6, 64, 64, 3)]    0         \n",
      "_________________________________________________________________\n",
      "INITIAL_CONV3D (Conv3D)      (None, 6, 64, 64, 64)     5248      \n",
      "_________________________________________________________________\n",
      "INITIAL_POOL3D (MaxPooling3D (None, 6, 32, 32, 64)     0         \n",
      "_________________________________________________________________\n",
      "activation (Activation)      (None, 6, 32, 32, 64)     0         \n",
      "_________________________________________________________________\n",
      "batch_normalization (BatchNo (None, 6, 32, 32, 64)     256       \n",
      "_________________________________________________________________\n",
      "CONV3D_1_C1 (Conv3D)         (None, 6, 32, 32, 128)    221312    \n",
      "_________________________________________________________________\n",
      "CONV3D_1_c2 (Conv3D)         (None, 6, 32, 32, 128)    442496    \n",
      "_________________________________________________________________\n",
      "POOL3D_1 (MaxPooling3D)      (None, 6, 16, 16, 128)    0         \n",
      "_________________________________________________________________\n",
      "activation_1 (Activation)    (None, 6, 16, 16, 128)    0         \n",
      "_________________________________________________________________\n",
      "batch_normalization_1 (Batch (None, 6, 16, 16, 128)    512       \n",
      "_________________________________________________________________\n",
      "CONV3D_2_C1 (Conv3D)         (None, 6, 16, 16, 256)    884992    \n",
      "_________________________________________________________________\n",
      "CONV3D_2_c2 (Conv3D)         (None, 6, 16, 16, 256)    1769728   \n",
      "_________________________________________________________________\n",
      "POOL3D_2 (MaxPooling3D)      (None, 6, 8, 8, 256)      0         \n",
      "_________________________________________________________________\n",
      "activation_2 (Activation)    (None, 6, 8, 8, 256)      0         \n",
      "_________________________________________________________________\n",
      "batch_normalization_2 (Batch (None, 6, 8, 8, 256)      1024      \n",
      "_________________________________________________________________\n",
      "CONV3D_3_C1 (Conv3D)         (None, 6, 8, 8, 512)      3539456   \n",
      "_________________________________________________________________\n",
      "CONV3D_3_c2 (Conv3D)         (None, 6, 8, 8, 512)      7078400   \n",
      "_________________________________________________________________\n",
      "POOL3D_3 (MaxPooling3D)      (None, 6, 4, 4, 512)      0         \n",
      "_________________________________________________________________\n",
      "activation_3 (Activation)    (None, 6, 4, 4, 512)      0         \n",
      "_________________________________________________________________\n",
      "batch_normalization_3 (Batch (None, 6, 4, 4, 512)      2048      \n",
      "_________________________________________________________________\n",
      "CONV3D_4_C1 (Conv3D)         (None, 6, 4, 4, 512)      7078400   \n",
      "_________________________________________________________________\n",
      "CONV3D_4_c2 (Conv3D)         (None, 6, 4, 4, 512)      7078400   \n",
      "_________________________________________________________________\n",
      "POOL3D_4 (MaxPooling3D)      (None, 6, 2, 2, 512)      0         \n",
      "_________________________________________________________________\n",
      "activation_4 (Activation)    (None, 6, 2, 2, 512)      0         \n",
      "_________________________________________________________________\n",
      "batch_normalization_4 (Batch (None, 6, 2, 2, 512)      2048      \n",
      "_________________________________________________________________\n",
      "FLATTEN (Flatten)            (None, 12288)             0         \n",
      "_________________________________________________________________\n",
      "DENSE_1 (Dense)              (None, 4096)              50335744  \n",
      "_________________________________________________________________\n",
      "DROP_OUT_D-1 (Dropout)       (None, 4096)              0         \n",
      "_________________________________________________________________\n",
      "DENSE_2 (Dense)              (None, 4096)              16781312  \n",
      "_________________________________________________________________\n",
      "DROP_OUT_D-2 (Dropout)       (None, 4096)              0         \n",
      "_________________________________________________________________\n",
      "DENSE_CLASS (Dense)          (None, 17)                69649     \n",
      "=================================================================\n",
      "Total params: 95,291,025\n",
      "Trainable params: 95,288,081\n",
      "Non-trainable params: 2,944\n",
      "_________________________________________________________________\n"
     ]
    }
   ],
   "source": [
    "import sys\n",
    "sys.path.append('.')\n",
    "from tensorflow.keras.losses import categorical_crossentropy\n",
    "from tensorflow.keras.optimizers import Adam\n",
    "\n",
    "tf.logging.set_verbosity(tf.logging.INFO)\n",
    "resolver = tf.contrib.cluster_resolver.TPUClusterResolver('grpc://' + os.environ['COLAB_TPU_ADDR'])\n",
    "tf.contrib.distribute.initialize_tpu_system(resolver)\n",
    "strategy = tf.contrib.distribute.TPUStrategy(resolver)\n",
    "with strategy.scope():\n",
    "  model=convNet3D(seq_len=FLAGS.MIN_SEQ_LEN,\n",
    "                  img_dim=FLAGS.IMAGE_DIM,\n",
    "                  nb_channels=FLAGS.NB_CHANNELS,\n",
    "                  nb_classes=FLAGS.NB_CLASSES)\n",
    "  model.summary()\n",
    "  model.compile(optimizer=Adam(learning_rate=LEARNING_RATE),   \n",
    "                loss=categorical_crossentropy,\n",
    "                metrics=['accuracy'])\n",
    "  if LOAD_WEIGHTS:\n",
    "    model.load_weights=os.path.join(MODEL_DIR,'{}.h5'.format(MODEL_NAME))\n"
   ]
  },
  {
   "cell_type": "markdown",
   "metadata": {
    "colab_type": "text",
    "id": "9nQXx8YRNSyr"
   },
   "source": [
    "#### Train\n"
   ]
  },
  {
   "cell_type": "code",
   "execution_count": 11,
   "metadata": {
    "colab": {
     "base_uri": "https://localhost:8080/",
     "height": 612
    },
    "colab_type": "code",
    "id": "OWTUQlweNYYN",
    "outputId": "2a7dd38a-a820-4a04-d0e6-c3124f7c6d57"
   },
   "outputs": [
    {
     "name": "stdout",
     "output_type": "stream",
     "text": [
      "Epoch 1/5\n",
      "10351/10352 [============================>.] - ETA: 0s - loss: 1.5661 - acc: 0.5870INFO:tensorflow:Running validation at fit epoch: 0\n",
      "160/160 [==============================] - 11s 70ms/step\n",
      "160/160 [==============================] - 11s 70ms/step\n",
      "\n",
      "Epoch 00001: val_loss improved from inf to 0.71126, saving model to /content/gdrive/My Drive/PROJECTS/HACT/Model/convNet3D.h5\n",
      "10352/10352 [==============================] - 674s 65ms/step - loss: 1.5660 - acc: 0.5870 - val_loss: 0.7113 - val_acc: 0.8502\n",
      "Epoch 2/5\n",
      "10351/10352 [============================>.] - ETA: 0s - loss: 0.5821 - acc: 0.8926INFO:tensorflow:Running validation at fit epoch: 1\n",
      "160/160 [==============================] - 12s 75ms/step\n",
      "160/160 [==============================] - 12s 75ms/step\n",
      "\n",
      "Epoch 00002: val_loss improved from 0.71126 to 0.45541, saving model to /content/gdrive/My Drive/PROJECTS/HACT/Model/convNet3D.h5\n",
      "10352/10352 [==============================] - 662s 64ms/step - loss: 0.5821 - acc: 0.8926 - val_loss: 0.4554 - val_acc: 0.9377\n",
      "Epoch 3/5\n",
      "10351/10352 [============================>.] - ETA: 0s - loss: 0.4236 - acc: 0.9446INFO:tensorflow:Running validation at fit epoch: 2\n",
      "160/160 [==============================] - 14s 86ms/step\n",
      "160/160 [==============================] - 14s 86ms/step\n",
      "\n",
      "Epoch 00003: val_loss improved from 0.45541 to 0.39751, saving model to /content/gdrive/My Drive/PROJECTS/HACT/Model/convNet3D.h5\n",
      "10352/10352 [==============================] - 668s 65ms/step - loss: 0.4236 - acc: 0.9446 - val_loss: 0.3975 - val_acc: 0.9533\n",
      "Epoch 4/5\n",
      "10351/10352 [============================>.] - ETA: 0s - loss: 0.3678 - acc: 0.9630INFO:tensorflow:Running validation at fit epoch: 3\n",
      "160/160 [==============================] - 14s 90ms/step\n",
      "160/160 [==============================] - 14s 90ms/step\n",
      "\n",
      "Epoch 00004: val_loss improved from 0.39751 to 0.36189, saving model to /content/gdrive/My Drive/PROJECTS/HACT/Model/convNet3D.h5\n",
      "10352/10352 [==============================] - 674s 65ms/step - loss: 0.3678 - acc: 0.9630 - val_loss: 0.3619 - val_acc: 0.9652\n",
      "Epoch 5/5\n",
      "10351/10352 [============================>.] - ETA: 0s - loss: 0.3401 - acc: 0.9724INFO:tensorflow:Running validation at fit epoch: 4\n",
      "160/160 [==============================] - 16s 100ms/step\n",
      "160/160 [==============================] - 16s 100ms/step\n",
      "\n",
      "Epoch 00005: val_loss improved from 0.36189 to 0.36011, saving model to /content/gdrive/My Drive/PROJECTS/HACT/Model/convNet3D.h5\n",
      "10352/10352 [==============================] - 680s 66ms/step - loss: 0.3401 - acc: 0.9724 - val_loss: 0.3601 - val_acc: 0.9652\n"
     ]
    }
   ],
   "source": [
    "from tensorflow.keras.callbacks import ModelCheckpoint\n",
    "checkpoint = ModelCheckpoint(filepath=os.path.join(MODEL_DIR,'{}.h5'.format(MODEL_NAME)), verbose=1, save_best_only=True)\n",
    "history=model.fit(train_in_fn(),\n",
    "                    epochs= EPOCHS,\n",
    "                    steps_per_epoch=STEPS_PER_EPOCH, \n",
    "                    validation_data=eval_in_fn(),\n",
    "                    validation_steps=VALIDATION_STEPS,\n",
    "                    callbacks=[checkpoint],\n",
    "                    verbose=1)"
   ]
  },
  {
   "cell_type": "markdown",
   "metadata": {
    "colab_type": "text",
    "id": "Or0XpoYadSF7"
   },
   "source": [
    "#### Save Model\n",
    "\n"
   ]
  },
  {
   "cell_type": "code",
   "execution_count": 0,
   "metadata": {
    "colab": {},
    "colab_type": "code",
    "id": "dFDwgbUVdSwY"
   },
   "outputs": [],
   "source": [
    "model.save_weights(os.path.join(MODEL_DIR,'{}_final.h5'.format(MODEL_NAME)))"
   ]
  },
  {
   "cell_type": "markdown",
   "metadata": {
    "colab_type": "text",
    "id": "J1M9sjHIbSnf"
   },
   "source": [
    "#### Plot Training Histoty"
   ]
  },
  {
   "cell_type": "code",
   "execution_count": 13,
   "metadata": {
    "colab": {
     "base_uri": "https://localhost:8080/",
     "height": 295
    },
    "colab_type": "code",
    "id": "ndNSS7XIbXaK",
    "outputId": "23b5ee25-4332-4fa4-9dba-c5c52f444830"
   },
   "outputs": [
    {
     "data": {
      "image/png": "[encoded data removed]",
      "text/plain": [
       "<Figure size 432x288 with 1 Axes>"
      ]
     },
     "metadata": {
      "tags": []
     },
     "output_type": "display_data"
    }
   ],
   "source": [
    "import matplotlib.pyplot as plt\n",
    "%matplotlib inline\n",
    "plt.plot(history.history['loss'])\n",
    "plt.plot(history.history['val_loss'])\n",
    "plt.title('LOSS History')\n",
    "plt.ylabel('loss')\n",
    "plt.xlabel('epoch')\n",
    "plt.legend(['train', 'validation'], loc='upper left')\n",
    "plt.savefig(os.path.join(MODEL_DIR,'{}_history.png'.format(MODEL_NAME)))"
   ]
  }
 ],
 "metadata": {
  "accelerator": "TPU",
  "colab": {
   "collapsed_sections": [],
   "name": "convNet3D.ipynb",
   "provenance": []
  },
  "kernelspec": {
   "display_name": "Python 3",
   "language": "python",
   "name": "python3"
  },
  "language_info": {
   "codemirror_mode": {
    "name": "ipython",
    "version": 3
   },
   "file_extension": ".py",
   "mimetype": "text/x-python",
   "name": "python",
   "nbconvert_exporter": "python",
   "pygments_lexer": "ipython3",
   "version": "3.6.9"
  }
 },
 "nbformat": 4,
 "nbformat_minor": 1
}
